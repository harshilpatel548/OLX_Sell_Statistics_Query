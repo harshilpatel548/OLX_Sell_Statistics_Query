{
 "cells": [
  {
   "cell_type": "markdown",
   "metadata": {},
   "source": [
    "Importing dependencies"
   ]
  },
  {
   "cell_type": "code",
   "execution_count": 31,
   "metadata": {
    "collapsed": true
   },
   "outputs": [],
   "source": [
    "import os"
   ]
  },
  {
   "cell_type": "markdown",
   "metadata": {},
   "source": [
    "Function to store data into list"
   ]
  },
  {
   "cell_type": "code",
   "execution_count": 37,
   "metadata": {
    "collapsed": true
   },
   "outputs": [],
   "source": [
    "def store_data_to_list(latest_list, data):\n",
    "    \n",
    "    d = data[1] # day of sale\n",
    "    p_id, c_id = split_data_at_period(data[2]) # product_id and catogery_id\n",
    "    s_id, r_id = split_data_at_period(data[3]) # state_id and region_id\n",
    "    \n",
    "    data_to_append = [d, p_id, c_id, s_id, r_id]\n",
    "    latest_list.append(list(map(int, data_to_append)))\n",
    "    \n",
    "    return latest_list"
   ]
  },
  {
   "cell_type": "markdown",
   "metadata": {},
   "source": [
    "Function to query data from list"
   ]
  },
  {
   "cell_type": "code",
   "execution_count": 38,
   "metadata": {
    "collapsed": true
   },
   "outputs": [],
   "source": [
    "def query_data_from_list(latest_list, data):\n",
    "    \n",
    "    d_start, d_end = list(map(int, split_data_at_period(data[1]))) # start and end day of sale\n",
    "    if d_end == 0:\n",
    "        d_end = d_start\n",
    "        \n",
    "    p_id, c_id = list(map(int, split_data_at_period(data[2]))) # product_id and catogery_id\n",
    "    s_id, r_id = list(map(int, split_data_at_period(data[3]))) # state_id and region_id\n",
    "    \n",
    "    count = 0\n",
    "    \n",
    "    for i in range(len(latest_list)):\n",
    "        \n",
    "        con_1 = (latest_list[i][0] >= d_start) and (latest_list[i][0] <= d_end) # condition 1\n",
    "    \n",
    "        # condition 2\n",
    "        if (p_id != -1 and c_id != 0): \n",
    "            con_2 = (latest_list[i][1] == p_id) and (latest_list[i][2] == c_id)\n",
    "        elif (p_id != -1 and c_id == 0):\n",
    "            con_2 = (latest_list[i][1] == p_id)\n",
    "        else:\n",
    "            con_2 = True\n",
    "    \n",
    "         # condition 3\n",
    "        if (s_id != -1 and r_id != 0):\n",
    "            con_3 = (latest_list[i][3] == s_id) & (latest_list[i][4] == r_id)\n",
    "        elif (s_id != -1 and r_id == 0):\n",
    "            con_3 = (latest_list[i][3] == s_id)\n",
    "        else:\n",
    "            con_3 = True\n",
    "    \n",
    "        count += int(con_1 and con_2 and con_3)\n",
    "    \n",
    "    return count"
   ]
  },
  {
   "cell_type": "markdown",
   "metadata": {},
   "source": [
    "Auxillary function to split data on periods"
   ]
  },
  {
   "cell_type": "code",
   "execution_count": 39,
   "metadata": {
    "collapsed": true
   },
   "outputs": [],
   "source": [
    "def split_data_at_period(data):\n",
    "    temp = data.split('.')\n",
    "    if len(temp) == 2:\n",
    "        return temp[0], temp[1]\n",
    "    else:\n",
    "        return temp[0], '0'"
   ]
  },
  {
   "cell_type": "markdown",
   "metadata": {},
   "source": [
    "Main function to import files, store them in list and query list"
   ]
  },
  {
   "cell_type": "code",
   "execution_count": 44,
   "metadata": {},
   "outputs": [
    {
     "name": "stdout",
     "output_type": "stream",
     "text": [
      "[[1, 1, 3, 2, 5]]\n",
      "[[1, 1, 3, 2, 5], [1, 1, 2, 2, 6]]\n",
      "[[1, 1, 3, 2, 5], [1, 1, 2, 2, 6], [2, 2, 0, 3, 5]]\n",
      "[[1, 1, 3, 2, 5], [1, 1, 2, 2, 6], [2, 2, 0, 3, 5], [1, 1, 2, 3, 4]]\n",
      "[[1, 1, 3, 2, 5], [1, 1, 2, 2, 6], [2, 2, 0, 3, 5], [1, 1, 2, 3, 4], [3, 2, 3, 6, 7]]\n",
      "[[1, 1, 3, 2, 5], [1, 1, 2, 2, 6], [2, 2, 0, 3, 5], [1, 1, 2, 3, 4], [3, 2, 3, 6, 7], [3, 2, 4, 6, 8]]\n",
      "[[1, 1, 3, 2, 5], [1, 1, 2, 2, 6], [2, 2, 0, 3, 5], [1, 1, 2, 3, 4], [3, 2, 3, 6, 7], [3, 2, 4, 6, 8], [2, 2, 0, 7, 8]]\n",
      "[[1, 1, 0, 2, 0]]\n",
      "[[1, 1, 0, 2, 0], [2, 1, 1, 2, 0]]\n",
      "[[1, 1, 0, 2, 0], [2, 1, 1, 2, 0], [2, 2, 3, 1, 0]]\n",
      "[[1, 1, 0, 2, 0], [2, 1, 1, 2, 0], [2, 2, 3, 1, 0], [1, 2, 2, 1, 0]]\n"
     ]
    }
   ],
   "source": [
    "input_path = os.getcwd() + '\\\\input' # path of input directory\n",
    "output_path = os.getcwd() + '\\\\output' # path of output directory\n",
    "\n",
    "for input_filename in os.listdir(input_path): # loop over all files in the current working directory\n",
    "   \n",
    "    with open(input_path + '\\\\' + input_filename) as f:\n",
    "        content = f.readlines()\n",
    "        content = [x.rstrip() for x in content] \n",
    "        \n",
    "    content = content[1:]\n",
    "    \n",
    "    latest_list = [] # initiating list to store and query\n",
    "    \n",
    "    output_filenme = 'output' + ''.join([i for i in input_filename if i.isdigit()]) # generating output filename\n",
    "    f = open(output_path + '\\\\' + output_filenme + '.txt.', 'w') # opening output file to write\n",
    "    \n",
    "    for record in content: # looping over records in the content of each file\n",
    "        \n",
    "        data = record.split()\n",
    "        \n",
    "        if data[0] == 'S':\n",
    "            latest_list = store_data_to_list(latest_list, data)  # store data to list\n",
    "        elif data[0] == 'Q':\n",
    "            f.write(str(query_data_from_list(latest_list, data)) + '\\n') # writing query result to file   \n",
    "            \n",
    "    f.close()"
   ]
  },
  {
   "cell_type": "code",
   "execution_count": null,
   "metadata": {
    "collapsed": true
   },
   "outputs": [],
   "source": []
  }
 ],
 "metadata": {
  "kernelspec": {
   "display_name": "Python 3",
   "language": "python",
   "name": "python3"
  },
  "language_info": {
   "codemirror_mode": {
    "name": "ipython",
    "version": 3
   },
   "file_extension": ".py",
   "mimetype": "text/x-python",
   "name": "python",
   "nbconvert_exporter": "python",
   "pygments_lexer": "ipython3",
   "version": "3.6.1"
  }
 },
 "nbformat": 4,
 "nbformat_minor": 2
}
