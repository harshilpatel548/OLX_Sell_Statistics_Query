{
 "cells": [
  {
   "cell_type": "markdown",
   "metadata": {},
   "source": [
    "Importing dependencies"
   ]
  },
  {
   "cell_type": "code",
   "execution_count": 21,
   "metadata": {
    "collapsed": true
   },
   "outputs": [],
   "source": [
    "import pandas as pd\n",
    "import os"
   ]
  },
  {
   "cell_type": "markdown",
   "metadata": {},
   "source": [
    "Function to store data into padas dataframe"
   ]
  },
  {
   "cell_type": "code",
   "execution_count": 22,
   "metadata": {
    "collapsed": true
   },
   "outputs": [],
   "source": [
    "def store_data_to_dataframe(df, data):\n",
    "    \n",
    "    d = data[1] # day of sale\n",
    "    p_id, c_id = split_data_at_period(data[2]) # product_id and catogery_id\n",
    "    s_id, r_id = split_data_at_period(data[3]) # state_id and region_id\n",
    "    \n",
    "    list_to_append = [d, p_id, c_id, s_id, r_id]\n",
    "    list_to_append = list(map(int, list_to_append))\n",
    "    df = df.append(pd.Series(list_to_append, index=['d','p_id','c_id','s_id','r_id']), ignore_index=True)\n",
    "    \n",
    "    return df"
   ]
  },
  {
   "cell_type": "markdown",
   "metadata": {},
   "source": [
    "Function to query data from padas dataframe"
   ]
  },
  {
   "cell_type": "code",
   "execution_count": 23,
   "metadata": {
    "collapsed": true
   },
   "outputs": [],
   "source": [
    "def query_data_from_dataframe(df, data):\n",
    "    \n",
    "    d_start, d_end = list(map(int, split_data_at_period(data[1]))) # start and end day of sale\n",
    "    if d_end == 0:\n",
    "        d_end = d_start\n",
    "        \n",
    "    p_id, c_id = list(map(int, split_data_at_period(data[2]))) # product_id and catogery_id\n",
    "    s_id, r_id = list(map(int, split_data_at_period(data[3]))) # state_id and region_id\n",
    "    \n",
    "    con_1 = (df['d'] >= d_start) & (df['d'] <= d_end) # condition 1\n",
    "    \n",
    "    # condition 2\n",
    "    if (p_id != -1 and c_id != 0): \n",
    "        con_2 = (df['p_id'] == p_id) & (df['c_id'] == c_id)\n",
    "    elif (p_id != -1 and c_id == 0):\n",
    "        con_2 = (df['p_id'] == p_id)\n",
    "    else:\n",
    "        con_2 = True\n",
    "    \n",
    "     # condition 3\n",
    "    if (s_id != -1 and r_id != 0):\n",
    "        con_3 = (df['s_id'] == s_id) & (df['r_id'] == r_id)\n",
    "    elif (s_id != -1 and r_id == 0):\n",
    "        con_3 = (df['s_id'] == s_id)\n",
    "    else:\n",
    "        con_3 = True\n",
    "    \n",
    "    return len(df[con_1 & con_2 & con_3].index)"
   ]
  },
  {
   "cell_type": "markdown",
   "metadata": {},
   "source": [
    "Auxillary function to split data on periods"
   ]
  },
  {
   "cell_type": "code",
   "execution_count": 24,
   "metadata": {
    "collapsed": true
   },
   "outputs": [],
   "source": [
    "def split_data_at_period(data):\n",
    "    temp = data.split('.')\n",
    "    if len(temp) == 2:\n",
    "        return temp[0], temp[1]\n",
    "    else:\n",
    "        return temp[0], '0'"
   ]
  },
  {
   "cell_type": "markdown",
   "metadata": {},
   "source": [
    "Main function to import files, store them in dataframe and query dataframes"
   ]
  },
  {
   "cell_type": "code",
   "execution_count": 26,
   "metadata": {
    "collapsed": true
   },
   "outputs": [],
   "source": [
    "input_path = os.getcwd() + '\\\\input' # path of input directory\n",
    "output_path = os.getcwd() + '\\\\output' # path of output directory\n",
    "\n",
    "for input_filename in os.listdir(input_path): # loop over all files in the current working directory\n",
    "   \n",
    "    with open(input_path + '\\\\' + input_filename) as f:\n",
    "        content = f.readlines()\n",
    "        content = [x.rstrip() for x in content] \n",
    "        \n",
    "    content = content[1:]\n",
    "    \n",
    "    df = pd.DataFrame(dict(d=[],p_id=[],c_id=[],s_id=[],r_id=[]), dtype=int) # initiating pandas dataframe to store and query\n",
    "    \n",
    "    output_filenme = 'output' + ''.join([i for i in input_filename if i.isdigit()]) # generating output filename\n",
    "    f = open(output_path + '\\\\' + output_filenme + '.txt.', 'w') # opening output file to write\n",
    "    \n",
    "    for record in content: # looping over records in the content of each file\n",
    "        \n",
    "        data = record.split()\n",
    "        \n",
    "        if data[0] == 'S':\n",
    "            df = store_data_to_dataframe(df, data)  # store data to dataframe\n",
    "        elif data[0] == 'Q':\n",
    "            f.write(str(query_data_from_dataframe(df, data)) + '\\n') # writing query result to file   \n",
    "            \n",
    "    f.close()"
   ]
  },
  {
   "cell_type": "code",
   "execution_count": null,
   "metadata": {
    "collapsed": true
   },
   "outputs": [],
   "source": []
  }
 ],
 "metadata": {
  "kernelspec": {
   "display_name": "Python 3",
   "language": "python",
   "name": "python3"
  },
  "language_info": {
   "codemirror_mode": {
    "name": "ipython",
    "version": 3
   },
   "file_extension": ".py",
   "mimetype": "text/x-python",
   "name": "python",
   "nbconvert_exporter": "python",
   "pygments_lexer": "ipython3",
   "version": "3.6.1"
  }
 },
 "nbformat": 4,
 "nbformat_minor": 2
}
